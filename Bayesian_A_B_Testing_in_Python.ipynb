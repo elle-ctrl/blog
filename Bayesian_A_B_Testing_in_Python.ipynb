{
  "nbformat": 4,
  "nbformat_minor": 0,
  "metadata": {
    "colab": {
      "name": "Bayesian A/B Testing in Python",
      "provenance": [],
      "collapsed_sections": [],
      "authorship_tag": "ABX9TyNIOMaX9MYaHExg/hwlY9sz",
      "include_colab_link": true
    },
    "kernelspec": {
      "name": "python3",
      "display_name": "Python 3"
    },
    "language_info": {
      "name": "python"
    }
  },
  "cells": [
    {
      "cell_type": "markdown",
      "metadata": {
        "id": "view-in-github",
        "colab_type": "text"
      },
      "source": [
        "<a href=\"https://colab.research.google.com/github/elle-ctrl/blog/blob/main/Bayesian_A_B_Testing_in_Python.ipynb\" target=\"_parent\"><img src=\"https://colab.research.google.com/assets/colab-badge.svg\" alt=\"Open In Colab\"/></a>"
      ]
    },
    {
      "cell_type": "code",
      "metadata": {
        "id": "aNc9baEbqteM"
      },
      "source": [
        "import numpy as np\n",
        "np.random.seed(45)\n",
        "from scipy.stats import beta\n",
        "import matplotlib.pyplot as plt"
      ],
      "execution_count": null,
      "outputs": []
    },
    {
      "cell_type": "code",
      "metadata": {
        "id": "3tvU6Wlg7JQ0"
      },
      "source": [
        "group_size = 1000\n",
        "A_group, B_group = np.random.rand(2, group_size) #CTR between 0 and 1\n",
        "\n",
        "A_successes = sum(A_group < 0.15) # A variant has a true success rate of 15%\n",
        "B_successes = sum(B_group < 0.20) # B variant has a true success rate of 20%\n",
        "\n",
        "A_failures = group_size - A_successes\n",
        "B_failures = group_size - B_successes"
      ],
      "execution_count": null,
      "outputs": []
    },
    {
      "cell_type": "code",
      "metadata": {
        "id": "W2gHrJ_QAL18"
      },
      "source": [
        "A_posterior = beta(A_successes + 8, A_failures + 42) # Prior Beta(8,42), A_posterio = prior + A's data\n",
        "B_posterior = beta(B_successes + 8, B_failures + 42)"
      ],
      "execution_count": null,
      "outputs": []
    },
    {
      "cell_type": "code",
      "metadata": {
        "id": "jXAmwT2o8H0R"
      },
      "source": [
        "A_values = A_posterior.rvs(size=100_000) # get some randon values from the distribution\n",
        "B_values = B_posterior.rvs(size=100_000)"
      ],
      "execution_count": null,
      "outputs": []
    },
    {
      "cell_type": "code",
      "metadata": {
        "colab": {
          "base_uri": "https://localhost:8080/",
          "height": 267
        },
        "id": "PPsn6zVaDLC3",
        "outputId": "4c625771-3cbe-44f1-c37f-98359266630e"
      },
      "source": [
        "fig, ax = plt.subplots(1, 1)\n",
        "ax.hist(A_values, density=True, histtype='stepfilled', alpha=0.2, label='A')\n",
        "ax.hist(B_values, density=True, histtype='stepfilled', alpha=0.2, label='B')\n",
        "ax.legend()\n",
        "plt.show()\n",
        "\n",
        "# Add x title: click rate"
      ],
      "execution_count": null,
      "outputs": [
        {
          "output_type": "display_data",
          "data": {
            "image/png": "[encoded data removed]",
            "text/plain": [
              "<Figure size 432x288 with 1 Axes>"
            ]
          },
          "metadata": {
            "needs_background": "light"
          }
        }
      ]
    },
    {
      "cell_type": "code",
      "metadata": {
        "colab": {
          "base_uri": "https://localhost:8080/"
        },
        "id": "mk5UaSdvv_I_",
        "outputId": "03c40474-3750-4543-8709-c1f7f6ca4950"
      },
      "source": [
        "sum(B_values > A_values)/100_000"
      ],
      "execution_count": null,
      "outputs": [
        {
          "output_type": "execute_result",
          "data": {
            "text/plain": [
              "0.98587"
            ]
          },
          "metadata": {},
          "execution_count": 84
        }
      ]
    },
    {
      "cell_type": "code",
      "metadata": {
        "id": "uTcqCw8xDk1y"
      },
      "source": [
        ""
      ],
      "execution_count": null,
      "outputs": []
    },
    {
      "cell_type": "markdown",
      "metadata": {
        "id": "ReSmRv6zMEhI"
      },
      "source": [
        "https://www.youtube.com/watch?v=nRLI_KbvZTQ&ab_channel=PyConCanada"
      ]
    },
    {
      "cell_type": "code",
      "metadata": {
        "colab": {
          "base_uri": "https://localhost:8080/"
        },
        "id": "dwL7mJoOMFMC",
        "outputId": "ff132530-5b4d-45f0-fc66-b2e3953b7b20"
      },
      "source": [
        "# Calculate a p-ish value with Monte Carlo simulation\n",
        "# Model a problem and the repeat the exp many times to get a solution?\n",
        "\n",
        "import pandas as pd\n",
        "n_trials = 100_000\n",
        "A_samples = pd.Series([A_posterior.rvs() for _ in range(n_trials)])\n",
        "B_samples = pd.Series([B_posterior.rvs() for _ in range(n_trials)])\n",
        "\n",
        "B_wins = sum(B_samples > A_samples)\n",
        "\n",
        "B_wins/n_trials # ~ one-sided p-value of 0.02. B has 99% probability of being better than A."
      ],
      "execution_count": null,
      "outputs": [
        {
          "output_type": "execute_result",
          "data": {
            "text/plain": [
              "0.9863"
            ]
          },
          "metadata": {},
          "execution_count": 70
        }
      ]
    },
    {
      "cell_type": "code",
      "metadata": {
        "colab": {
          "base_uri": "https://localhost:8080/",
          "height": 283
        },
        "id": "_eA9R_W-NSr6",
        "outputId": "8f078fc8-9d0d-4d9d-e155-090eeeff6379"
      },
      "source": [
        "B_relative = B_samples / A_samples\n",
        "B_relative.hist() # Relative performance of B over A"
      ],
      "execution_count": null,
      "outputs": [
        {
          "output_type": "execute_result",
          "data": {
            "text/plain": [
              "<matplotlib.axes._subplots.AxesSubplot at 0x7f040a29cdd0>"
            ]
          },
          "metadata": {},
          "execution_count": 71
        },
        {
          "output_type": "display_data",
          "data": {
            "image/png": "[encoded data removed]",
            "text/plain": [
              "<Figure size 432x288 with 1 Axes>"
            ]
          },
          "metadata": {
            "needs_background": "light"
          }
        }
      ]
    },
    {
      "cell_type": "code",
      "metadata": {
        "id": "nHF6Vm92n4Wx"
      },
      "source": [
        ""
      ],
      "execution_count": null,
      "outputs": []
    },
    {
      "cell_type": "code",
      "metadata": {
        "colab": {
          "base_uri": "https://localhost:8080/",
          "height": 265
        },
        "id": "8tx1K54hr_DM",
        "outputId": "f101fe53-583d-4e0b-e5b5-68b0c4079c86"
      },
      "source": [
        "from matplotlib import pyplot\n",
        "\"\"\"Same distribution. uniform\n",
        "\"\"\"\n",
        "iid = np.concatenate([np.random.rand(300),\n",
        "                            np.random.rand(300),\n",
        "                            np.random.rand(500)])\n",
        "plt.hist(iid)\n",
        "plt.show()"
      ],
      "execution_count": null,
      "outputs": [
        {
          "output_type": "display_data",
          "data": {
            "image/png": "[encoded data removed]",
            "text/plain": [
              "<Figure size 432x288 with 1 Axes>"
            ]
          },
          "metadata": {
            "needs_background": "light"
          }
        }
      ]
    },
    {
      "cell_type": "code",
      "metadata": {
        "colab": {
          "base_uri": "https://localhost:8080/",
          "height": 265
        },
        "id": "y0EzHkGfr_R3",
        "outputId": "7b2e7985-e1ba-4099-82cf-4c961ba3f8a1"
      },
      "source": [
        "not_iid = np.concatenate([np.random.rand(300),\n",
        "                            np.random.rand(300)*3+5,\n",
        "                            np.random.rand(500)])\n",
        "plt.hist(not_iid)\n",
        "plt.show()"
      ],
      "execution_count": null,
      "outputs": [
        {
          "output_type": "display_data",
          "data": {
            "image/png": "[encoded data removed]",
            "text/plain": [
              "<Figure size 432x288 with 1 Axes>"
            ]
          },
          "metadata": {
            "needs_background": "light"
          }
        }
      ]
    },
    {
      "cell_type": "code",
      "metadata": {
        "colab": {
          "base_uri": "https://localhost:8080/",
          "height": 265
        },
        "id": "FwvWxdMX91o_",
        "outputId": "33b5a6a8-9cc0-4a3b-e39f-c86ad334d9d4"
      },
      "source": [
        "fig, ax = plt.subplots(1, 1)\n",
        "ax.hist(r, density=True, histtype='stepfilled', alpha=0.2)\n",
        "#ax.hist(t, density=True, histtype='stepfilled', alpha=0.2)\n",
        "plt.show()"
      ],
      "execution_count": null,
      "outputs": [
        {
          "output_type": "display_data",
          "data": {
            "image/png": "[encoded data removed]",
            "text/plain": [
              "<Figure size 432x288 with 1 Axes>"
            ]
          },
          "metadata": {
            "needs_background": "light"
          }
        }
      ]
    },
    {
      "cell_type": "code",
      "metadata": {
        "colab": {
          "base_uri": "https://localhost:8080/",
          "height": 265
        },
        "id": "fOKfNbCsA8xY",
        "outputId": "7214fc23-8b4a-4e6d-93d0-8674442f756c"
      },
      "source": [
        "fig, ax = plt.subplots(1, 2)\n",
        "ax[0].hist(r, density=True, histtype='stepfilled', alpha=0.2)\n",
        "ax[1].hist(t, density=True, histtype='stepfilled', alpha=0.2)\n",
        "plt.show()"
      ],
      "execution_count": null,
      "outputs": [
        {
          "output_type": "display_data",
          "data": {
            "image/png": "[encoded data removed]",
            "text/plain": [
              "<Figure size 432x288 with 2 Axes>"
            ]
          },
          "metadata": {
            "needs_background": "light"
          }
        }
      ]
    }
  ]
}