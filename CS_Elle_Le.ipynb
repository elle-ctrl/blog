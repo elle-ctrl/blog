{
  "nbformat": 4,
  "nbformat_minor": 0,
  "metadata": {
    "colab": {
      "name": "CS_Elle_Le.ipynb",
      "provenance": [],
      "collapsed_sections": [],
      "authorship_tag": "ABX9TyP0/N3jPNGxKumRWbEWOXMd",
      "include_colab_link": true
    },
    "kernelspec": {
      "name": "python3",
      "display_name": "Python 3"
    },
    "language_info": {
      "name": "python"
    }
  },
  "cells": [
    {
      "cell_type": "markdown",
      "metadata": {
        "id": "view-in-github",
        "colab_type": "text"
      },
      "source": [
        "<a href=\"https://colab.research.google.com/github/elle-ctrl/blog/blob/main/CS_Elle_Le.ipynb\" target=\"_parent\"><img src=\"https://colab.research.google.com/assets/colab-badge.svg\" alt=\"Open In Colab\"/></a>"
      ]
    },
    {
      "cell_type": "markdown",
      "metadata": {
        "id": "JhOgVOzJDRS0"
      },
      "source": [
        "# Summary\n",
        "## 1 - Overview\n",
        "\n",
        "*   1.1. Business Context & KPIs\n",
        "*   1.2. Key Findings\n",
        "*   1.3. Future Considerations \n",
        "\n",
        "## 2 - Modeling\n",
        "\n",
        "*   1. EDA\n",
        "##### 1.1. Check the data for any abnormality\n",
        "##### 1.2. Clean and Do feature engineering\n",
        "*   2. Fit conventional classifiers as baseline models\n",
        "*   3. Tuned to get better models\n"
      ]
    },
    {
      "cell_type": "markdown",
      "metadata": {
        "id": "X2VIrvIYGgUB"
      },
      "source": [
        "-------------------------------------------------------------------------------"
      ]
    },
    {
      "cell_type": "markdown",
      "metadata": {
        "id": "gu2RCjlBGazt"
      },
      "source": [
        "# 1 - Overview\n",
        "*   1.1. Business Context & KPIs\n",
        "\n",
        "Problem:  to identify the likelihood to default in the next month for customers, given data such as: user characteristics (e.g. gender, education level, marrital status, age), and user financial behavior (e.g. total credit line, payment amount in the last 6 months, and on-time payment status in the last 6 months). It is important to note that we must not discriminate users based on race, color, religion, sex, marital status, age (provided the applicant has the capacity to contract), national origin, or receipt of public assistance.\n",
        "\n",
        "Use Cases: given Credit Sesame's mission to empower people to take charge of their credit and loans and achieve their financial goals, the prediction of user's likelihood of being default has a number of applications. For example: to suggest the appropriate credit cards, with the new Sesame Cash, this feature can be use to determine appropriate promotion, incentive to encourage user adoption and usage of our product, etc. \n",
        "Goals \n",
        "\n",
        "KPIs: \n",
        "\n",
        "This is a classification problem with imbalanced distribution of classes.\n",
        "In this dataset, there is around 22% of users with label default, and 78% not.\n",
        "Therefore, the suitable metrics should be Precision, Recall, and F1, definetly not accuracy (because a model that always predicts all points as the majority class will have accuracy score of 78%). \n",
        "Deciding which metric to use totally depends on business and ethical consideration. \n",
        "\n",
        "We can analyze the cost of False Positive (FP) and False Negative(FN). If the cost of FP is higher, we will optimize Precision because Precision = TP / (TP + FP) and vice versa. (Recall = TP/ (TP + FN) ). Once can choose F1 (the harmonic of Precision and Recall) as a lazy method, but I always prefer to specific Precision or Recall clearly.\n",
        "\n",
        "This our case, let's examine the precision-recall trade-off. False Positive means a customer is not default but we say they are. The cost is that we lose the potential revenue from this customer because we already excluded them from product offering. Also, customer might be hurt, and discouraged to use other products we offer. False Negative is that we thought a customer is not default, but they actually are. The cost here is the bad debt incurred. \n",
        "\n",
        "My assumption is Credit Sesame is in the growth stage, and we can afford some risks. We do not want to miss out customers. Thus, precision is more important. Precision will be our North Star metric to evaluate models in this case.\n",
        "\n",
        "Noted that ROC and its AUC are two other common performance metrics for classification models. However, they are not responsive for imbalanced classes. Precision - Recall curve is a more appropriate measurement. We can use AUC under Precision - Recall curve as well. \n",
        "\n",
        "*   1.2. Key Findings \n",
        "\n",
        "Data Overview: The data is pretty clean, no NA, minor discrepancy in some columns but easy to fixed. \n",
        "- There are some correlation between education, age, credit line, and payment bahavior to the likelihood of default. Nothing is out of ordinary: users with higher education leval have lower probability of default, etc.\n",
        "\n",
        "Data is split into 70% train and 30% test, stratified by classes to maintain the same distribution of classes across the data sets.\n",
        "\n",
        "After some data exploratory, some classifiers were fitted as baseline models\n",
        "- Logistic Regression with class-weight of balance.\n",
        "- Decition Tree\n",
        "- Random Forest\n",
        "- XGBoost - best performance with little overfit. Precision of 0.7 train, 0.68 Test, while Recall 0.37 Train and 0.35 Test\n",
        "\n",
        "Their performance is summary in a table at the end of this notebook. Random Forest is useful to get feature importance. The 10 most important features are: 'PAY_0',\n",
        " 'PAY_2',\n",
        " 'PAY_5',\n",
        " 'PAY_3',\n",
        " 'PAY_4',\n",
        " 'PAY_AMT1',\n",
        " 'LIMIT_BAL',\n",
        " 'BILL_AMT1',\n",
        " 'PAY_AMT2',\n",
        " 'BILL_AMT2'\n",
        "\n",
        "Model tunning🇰\n",
        "- Logistic Regression: adjusting class weight improve model performance significantly. A common practice for using the class weighting is to use the inverse of the class distribution present in the training dataset. When the class_weights = ‘balanced’, the model automatically assigns the class weights inversely proportional to their respective frequencies. We tried this as a baseline model. Looks like the balance one is the best\n",
        "- Randome Forest: {'max_depth': 7, 'random_state': 10, 'n_estimators': 100}\n",
        "- XGBoost: {'max_depth': 7, 'learning_rate': 0.01}\n",
        "\n",
        "The best model\n",
        "We can pick either Random Forest or XGBoost. They both achieve 0.68 precision and 0.32 recall on test data with just litte overfit.\n",
        "\n",
        "Inferences: 0.68 precision means that when we say a user is likely to default, 68% of the time we are correct. 32% recall means that we are able to identify 32% of the defaults from the sample. Which is a decent result and totally aligns with out goal stated earlier.\n",
        "\n",
        "*   1.3. Future Considerations \n",
        "- Hyperparameter tuning for XGBoost instead of estimating the parameters.\n",
        "- Use cross validation\n",
        "- Adjust decision threshold from the default of 0.5\n",
        "- Feature Engineering (maybe some interaction terms)\n",
        "- Collect more data: such as cross-card usage."
      ]
    },
    {
      "cell_type": "code",
      "metadata": {
        "colab": {
          "base_uri": "https://localhost:8080/",
          "height": 402
        },
        "id": "7GYcEa_7Vgs2",
        "outputId": "15c66f1a-9a0c-4f59-bbde-20a10b256304"
      },
      "source": [
        "# Summary of our model performance.\n",
        "result_df"
      ],
      "execution_count": 73,
      "outputs": [
        {
          "output_type": "execute_result",
          "data": {
            "text/html": [
              "<div>\n",
              "<style scoped>\n",
              "    .dataframe tbody tr th:only-of-type {\n",
              "        vertical-align: middle;\n",
              "    }\n",
              "\n",
              "    .dataframe tbody tr th {\n",
              "        vertical-align: top;\n",
              "    }\n",
              "\n",
              "    .dataframe thead th {\n",
              "        text-align: right;\n",
              "    }\n",
              "</style>\n",
              "<table border=\"1\" class=\"dataframe\">\n",
              "  <thead>\n",
              "    <tr style=\"text-align: right;\">\n",
              "      <th></th>\n",
              "      <th>Model</th>\n",
              "      <th>Classifier</th>\n",
              "      <th>Features</th>\n",
              "      <th>Precision- Train</th>\n",
              "      <th>Precision- Test</th>\n",
              "      <th>Recall- Train</th>\n",
              "      <th>Recall- Test</th>\n",
              "      <th>F1- Train</th>\n",
              "      <th>F1- Test</th>\n",
              "    </tr>\n",
              "  </thead>\n",
              "  <tbody>\n",
              "    <tr>\n",
              "      <th>0</th>\n",
              "      <td>Logistic Regression - Base (balance weight)</td>\n",
              "      <td>LogisticRegression(class_weight='balanced')</td>\n",
              "      <td>LIMIT_BAL, SEX, EDUCATION, MARRIAGE, PAY_0, PA...</td>\n",
              "      <td>0.320725</td>\n",
              "      <td>0.318373</td>\n",
              "      <td>0.354144</td>\n",
              "      <td>0.342039</td>\n",
              "      <td>0.336607</td>\n",
              "      <td>0.329782</td>\n",
              "    </tr>\n",
              "    <tr>\n",
              "      <th>1</th>\n",
              "      <td>Decision Tree - Base</td>\n",
              "      <td>DecisionTreeClassifier(max_depth=10, random_st...</td>\n",
              "      <td>LIMIT_BAL, SEX, EDUCATION, MARRIAGE, PAY_0, PA...</td>\n",
              "      <td>0.758669</td>\n",
              "      <td>0.607908</td>\n",
              "      <td>0.471044</td>\n",
              "      <td>0.370668</td>\n",
              "      <td>0.581219</td>\n",
              "      <td>0.460530</td>\n",
              "    </tr>\n",
              "    <tr>\n",
              "      <th>2</th>\n",
              "      <td>Random Forest - Base</td>\n",
              "      <td>(DecisionTreeClassifier(max_depth=10, max_feat...</td>\n",
              "      <td>LIMIT_BAL, SEX, EDUCATION, MARRIAGE, PAY_0, PA...</td>\n",
              "      <td>0.845065</td>\n",
              "      <td>0.676142</td>\n",
              "      <td>0.436814</td>\n",
              "      <td>0.334505</td>\n",
              "      <td>0.575930</td>\n",
              "      <td>0.447581</td>\n",
              "    </tr>\n",
              "    <tr>\n",
              "      <th>3</th>\n",
              "      <td>XGBoost - Base</td>\n",
              "      <td>XGBClassifier()</td>\n",
              "      <td>LIMIT_BAL, SEX, EDUCATION, MARRIAGE, PAY_0, PA...</td>\n",
              "      <td>0.704323</td>\n",
              "      <td>0.677800</td>\n",
              "      <td>0.371798</td>\n",
              "      <td>0.346560</td>\n",
              "      <td>0.486685</td>\n",
              "      <td>0.458624</td>\n",
              "    </tr>\n",
              "    <tr>\n",
              "      <th>0</th>\n",
              "      <td>Logistic Regression - Tuned</td>\n",
              "      <td>LogisticRegression(class_weight={0: 1, 1: 10})</td>\n",
              "      <td>LIMIT_BAL, SEX, EDUCATION, MARRIAGE, PAY_0, PA...</td>\n",
              "      <td>0.228387</td>\n",
              "      <td>0.229090</td>\n",
              "      <td>0.965124</td>\n",
              "      <td>0.964340</td>\n",
              "      <td>0.369366</td>\n",
              "      <td>0.370228</td>\n",
              "    </tr>\n",
              "    <tr>\n",
              "      <th>1</th>\n",
              "      <td>Random Forest - Tuned</td>\n",
              "      <td>(DecisionTreeClassifier(max_depth=7, max_featu...</td>\n",
              "      <td>LIMIT_BAL, SEX, EDUCATION, MARRIAGE, PAY_0, PA...</td>\n",
              "      <td>0.751479</td>\n",
              "      <td>0.684268</td>\n",
              "      <td>0.355436</td>\n",
              "      <td>0.312406</td>\n",
              "      <td>0.482607</td>\n",
              "      <td>0.428966</td>\n",
              "    </tr>\n",
              "    <tr>\n",
              "      <th>2</th>\n",
              "      <td>XGBoost - Tuned</td>\n",
              "      <td>XGBClassifier(learning_rate=0.01, max_depth=7)</td>\n",
              "      <td>LIMIT_BAL, SEX, EDUCATION, MARRIAGE, PAY_0, PA...</td>\n",
              "      <td>0.757676</td>\n",
              "      <td>0.679112</td>\n",
              "      <td>0.393111</td>\n",
              "      <td>0.338021</td>\n",
              "      <td>0.517647</td>\n",
              "      <td>0.451375</td>\n",
              "    </tr>\n",
              "  </tbody>\n",
              "</table>\n",
              "</div>"
            ],
            "text/plain": [
              "                                         Model  ...  F1- Test\n",
              "0  Logistic Regression - Base (balance weight)  ...  0.329782\n",
              "1                         Decision Tree - Base  ...  0.460530\n",
              "2                         Random Forest - Base  ...  0.447581\n",
              "3                               XGBoost - Base  ...  0.458624\n",
              "0                  Logistic Regression - Tuned  ...  0.370228\n",
              "1                        Random Forest - Tuned  ...  0.428966\n",
              "2                              XGBoost - Tuned  ...  0.451375\n",
              "\n",
              "[7 rows x 9 columns]"
            ]
          },
          "metadata": {},
          "execution_count": 73
        }
      ]
    },
    {
      "cell_type": "markdown",
      "metadata": {
        "id": "m4cR2lhqGXaN"
      },
      "source": [
        "#2 - Modeling"
      ]
    },
    {
      "cell_type": "code",
      "metadata": {
        "colab": {
          "base_uri": "https://localhost:8080/"
        },
        "id": "_Fq1wAs29dh1",
        "outputId": "47cfbb25-3d96-41df-cb42-ed648ad307d4"
      },
      "source": [
        "from google.colab import drive\n",
        "drive.mount(\"/content/gdrive\")"
      ],
      "execution_count": null,
      "outputs": [
        {
          "output_type": "stream",
          "name": "stdout",
          "text": [
            "Mounted at /content/gdrive\n"
          ]
        }
      ]
    },
    {
      "cell_type": "code",
      "metadata": {
        "id": "MdAMjtjZ9mqM"
      },
      "source": [
        "import pandas as pd\n",
        "import numpy as np\n",
        "from scipy import stats\n",
        "import statsmodels.api as sm\n",
        "\n",
        "from sklearn import model_selection\n",
        "from sklearn.model_selection import train_test_split, cross_val_score, StratifiedKFold, KFold\n",
        "\n",
        "from sklearn.model_selection import KFold, cross_val_score\n",
        "from sklearn import metrics\n",
        "import xgboost as xgb\n",
        "\n",
        "#importing libraries\n",
        "from sklearn.model_selection import train_test_split\n",
        "from sklearn.datasets import make_classification\n",
        "from sklearn.metrics import (precision_recall_curve, PrecisionRecallDisplay)\n",
        "from sklearn.metrics import recall_score, precision_score, f1_score, accuracy_score, confusion_matrix\n",
        "\n",
        "from sklearn.linear_model import LogisticRegression\n",
        "from sklearn.tree import DecisionTreeClassifier\n",
        "from sklearn.ensemble import RandomForestClassifier\n",
        "import collections\n",
        "\n",
        "\n",
        "import matplotlib.pyplot as plt\n",
        "import seaborn as sns\n",
        "from IPython.display import Image\n",
        "%matplotlib inline\n",
        "plt.style.use('seaborn-white')"
      ],
      "execution_count": null,
      "outputs": []
    },
    {
      "cell_type": "code",
      "metadata": {
        "id": "B-txltEu9suD"
      },
      "source": [
        "# Read in the data\n",
        "df = pd.read_excel('/content/gdrive/My Drive/ISL_data/default of credit card clients.xlsx')"
      ],
      "execution_count": null,
      "outputs": []
    },
    {
      "cell_type": "code",
      "metadata": {
        "id": "cNOE35SMq6JA"
      },
      "source": [
        "# Shorten the name of the target column, just to make it simpler.\n",
        "df.rename(columns={'default payment next month':'default'}, inplace=True)"
      ],
      "execution_count": null,
      "outputs": []
    },
    {
      "cell_type": "markdown",
      "metadata": {
        "id": "meQZsinYaaYH"
      },
      "source": [
        "## EDA"
      ]
    },
    {
      "cell_type": "code",
      "metadata": {
        "colab": {
          "base_uri": "https://localhost:8080/"
        },
        "id": "Vryx6uXM9yl7",
        "outputId": "56d42872-ba29-45e1-8885-06e6fa165721"
      },
      "source": [
        "# Get some basic details about the data. E.g. Checking for null values.\n",
        "df.info()"
      ],
      "execution_count": null,
      "outputs": [
        {
          "output_type": "stream",
          "name": "stdout",
          "text": [
            "<class 'pandas.core.frame.DataFrame'>\n",
            "RangeIndex: 30000 entries, 0 to 29999\n",
            "Data columns (total 25 columns):\n",
            " #   Column     Non-Null Count  Dtype\n",
            "---  ------     --------------  -----\n",
            " 0   ID         30000 non-null  int64\n",
            " 1   LIMIT_BAL  30000 non-null  int64\n",
            " 2   SEX        30000 non-null  int64\n",
            " 3   EDUCATION  30000 non-null  int64\n",
            " 4   MARRIAGE   30000 non-null  int64\n",
            " 5   AGE        30000 non-null  int64\n",
            " 6   PAY_0      30000 non-null  int64\n",
            " 7   PAY_2      30000 non-null  int64\n",
            " 8   PAY_3      30000 non-null  int64\n",
            " 9   PAY_4      30000 non-null  int64\n",
            " 10  PAY_5      30000 non-null  int64\n",
            " 11  PAY_6      30000 non-null  int64\n",
            " 12  BILL_AMT1  30000 non-null  int64\n",
            " 13  BILL_AMT2  30000 non-null  int64\n",
            " 14  BILL_AMT3  30000 non-null  int64\n",
            " 15  BILL_AMT4  30000 non-null  int64\n",
            " 16  BILL_AMT5  30000 non-null  int64\n",
            " 17  BILL_AMT6  30000 non-null  int64\n",
            " 18  PAY_AMT1   30000 non-null  int64\n",
            " 19  PAY_AMT2   30000 non-null  int64\n",
            " 20  PAY_AMT3   30000 non-null  int64\n",
            " 21  PAY_AMT4   30000 non-null  int64\n",
            " 22  PAY_AMT5   30000 non-null  int64\n",
            " 23  PAY_AMT6   30000 non-null  int64\n",
            " 24  default    30000 non-null  int64\n",
            "dtypes: int64(25)\n",
            "memory usage: 5.7 MB\n"
          ]
        }
      ]
    },
    {
      "cell_type": "code",
      "metadata": {
        "colab": {
          "base_uri": "https://localhost:8080/",
          "height": 317
        },
        "id": "LNzHsaBD-u_z",
        "outputId": "b5c0f86f-927b-4700-ce2f-5ebe4ff5387c"
      },
      "source": [
        "# Check for the ranges.\n",
        "df.describe()"
      ],
      "execution_count": null,
      "outputs": [
        {
          "output_type": "execute_result",
          "data": {
            "text/html": [
              "<div>\n",
              "<style scoped>\n",
              "    .dataframe tbody tr th:only-of-type {\n",
              "        vertical-align: middle;\n",
              "    }\n",
              "\n",
              "    .dataframe tbody tr th {\n",
              "        vertical-align: top;\n",
              "    }\n",
              "\n",
              "    .dataframe thead th {\n",
              "        text-align: right;\n",
              "    }\n",
              "</style>\n",
              "<table border=\"1\" class=\"dataframe\">\n",
              "  <thead>\n",
              "    <tr style=\"text-align: right;\">\n",
              "      <th></th>\n",
              "      <th>ID</th>\n",
              "      <th>LIMIT_BAL</th>\n",
              "      <th>SEX</th>\n",
              "      <th>EDUCATION</th>\n",
              "      <th>MARRIAGE</th>\n",
              "      <th>AGE</th>\n",
              "      <th>PAY_0</th>\n",
              "      <th>PAY_2</th>\n",
              "      <th>PAY_3</th>\n",
              "      <th>PAY_4</th>\n",
              "      <th>PAY_5</th>\n",
              "      <th>PAY_6</th>\n",
              "      <th>BILL_AMT1</th>\n",
              "      <th>BILL_AMT2</th>\n",
              "      <th>BILL_AMT3</th>\n",
              "      <th>BILL_AMT4</th>\n",
              "      <th>BILL_AMT5</th>\n",
              "      <th>BILL_AMT6</th>\n",
              "      <th>PAY_AMT1</th>\n",
              "      <th>PAY_AMT2</th>\n",
              "      <th>PAY_AMT3</th>\n",
              "      <th>PAY_AMT4</th>\n",
              "      <th>PAY_AMT5</th>\n",
              "      <th>PAY_AMT6</th>\n",
              "      <th>default</th>\n",
              "    </tr>\n",
              "  </thead>\n",
              "  <tbody>\n",
              "    <tr>\n",
              "      <th>count</th>\n",
              "      <td>30000.000000</td>\n",
              "      <td>30000.000000</td>\n",
              "      <td>30000.000000</td>\n",
              "      <td>30000.000000</td>\n",
              "      <td>30000.000000</td>\n",
              "      <td>30000.000000</td>\n",
              "      <td>30000.000000</td>\n",
              "      <td>30000.000000</td>\n",
              "      <td>30000.000000</td>\n",
              "      <td>30000.000000</td>\n",
              "      <td>30000.000000</td>\n",
              "      <td>30000.000000</td>\n",
              "      <td>30000.000000</td>\n",
              "      <td>30000.000000</td>\n",
              "      <td>3.000000e+04</td>\n",
              "      <td>30000.000000</td>\n",
              "      <td>30000.000000</td>\n",
              "      <td>30000.000000</td>\n",
              "      <td>30000.000000</td>\n",
              "      <td>3.000000e+04</td>\n",
              "      <td>30000.00000</td>\n",
              "      <td>30000.000000</td>\n",
              "      <td>30000.000000</td>\n",
              "      <td>30000.000000</td>\n",
              "      <td>30000.000000</td>\n",
              "    </tr>\n",
              "    <tr>\n",
              "      <th>mean</th>\n",
              "      <td>15000.500000</td>\n",
              "      <td>167484.322667</td>\n",
              "      <td>1.603733</td>\n",
              "      <td>1.853133</td>\n",
              "      <td>1.551867</td>\n",
              "      <td>35.485500</td>\n",
              "      <td>-0.016700</td>\n",
              "      <td>-0.133767</td>\n",
              "      <td>-0.166200</td>\n",
              "      <td>-0.220667</td>\n",
              "      <td>-0.266200</td>\n",
              "      <td>-0.291100</td>\n",
              "      <td>51223.330900</td>\n",
              "      <td>49179.075167</td>\n",
              "      <td>4.701315e+04</td>\n",
              "      <td>43262.948967</td>\n",
              "      <td>40311.400967</td>\n",
              "      <td>38871.760400</td>\n",
              "      <td>5663.580500</td>\n",
              "      <td>5.921163e+03</td>\n",
              "      <td>5225.68150</td>\n",
              "      <td>4826.076867</td>\n",
              "      <td>4799.387633</td>\n",
              "      <td>5215.502567</td>\n",
              "      <td>0.221200</td>\n",
              "    </tr>\n",
              "    <tr>\n",
              "      <th>std</th>\n",
              "      <td>8660.398374</td>\n",
              "      <td>129747.661567</td>\n",
              "      <td>0.489129</td>\n",
              "      <td>0.790349</td>\n",
              "      <td>0.521970</td>\n",
              "      <td>9.217904</td>\n",
              "      <td>1.123802</td>\n",
              "      <td>1.197186</td>\n",
              "      <td>1.196868</td>\n",
              "      <td>1.169139</td>\n",
              "      <td>1.133187</td>\n",
              "      <td>1.149988</td>\n",
              "      <td>73635.860576</td>\n",
              "      <td>71173.768783</td>\n",
              "      <td>6.934939e+04</td>\n",
              "      <td>64332.856134</td>\n",
              "      <td>60797.155770</td>\n",
              "      <td>59554.107537</td>\n",
              "      <td>16563.280354</td>\n",
              "      <td>2.304087e+04</td>\n",
              "      <td>17606.96147</td>\n",
              "      <td>15666.159744</td>\n",
              "      <td>15278.305679</td>\n",
              "      <td>17777.465775</td>\n",
              "      <td>0.415062</td>\n",
              "    </tr>\n",
              "    <tr>\n",
              "      <th>min</th>\n",
              "      <td>1.000000</td>\n",
              "      <td>10000.000000</td>\n",
              "      <td>1.000000</td>\n",
              "      <td>0.000000</td>\n",
              "      <td>0.000000</td>\n",
              "      <td>21.000000</td>\n",
              "      <td>-2.000000</td>\n",
              "      <td>-2.000000</td>\n",
              "      <td>-2.000000</td>\n",
              "      <td>-2.000000</td>\n",
              "      <td>-2.000000</td>\n",
              "      <td>-2.000000</td>\n",
              "      <td>-165580.000000</td>\n",
              "      <td>-69777.000000</td>\n",
              "      <td>-1.572640e+05</td>\n",
              "      <td>-170000.000000</td>\n",
              "      <td>-81334.000000</td>\n",
              "      <td>-339603.000000</td>\n",
              "      <td>0.000000</td>\n",
              "      <td>0.000000e+00</td>\n",
              "      <td>0.00000</td>\n",
              "      <td>0.000000</td>\n",
              "      <td>0.000000</td>\n",
              "      <td>0.000000</td>\n",
              "      <td>0.000000</td>\n",
              "    </tr>\n",
              "    <tr>\n",
              "      <th>25%</th>\n",
              "      <td>7500.750000</td>\n",
              "      <td>50000.000000</td>\n",
              "      <td>1.000000</td>\n",
              "      <td>1.000000</td>\n",
              "      <td>1.000000</td>\n",
              "      <td>28.000000</td>\n",
              "      <td>-1.000000</td>\n",
              "      <td>-1.000000</td>\n",
              "      <td>-1.000000</td>\n",
              "      <td>-1.000000</td>\n",
              "      <td>-1.000000</td>\n",
              "      <td>-1.000000</td>\n",
              "      <td>3558.750000</td>\n",
              "      <td>2984.750000</td>\n",
              "      <td>2.666250e+03</td>\n",
              "      <td>2326.750000</td>\n",
              "      <td>1763.000000</td>\n",
              "      <td>1256.000000</td>\n",
              "      <td>1000.000000</td>\n",
              "      <td>8.330000e+02</td>\n",
              "      <td>390.00000</td>\n",
              "      <td>296.000000</td>\n",
              "      <td>252.500000</td>\n",
              "      <td>117.750000</td>\n",
              "      <td>0.000000</td>\n",
              "    </tr>\n",
              "    <tr>\n",
              "      <th>50%</th>\n",
              "      <td>15000.500000</td>\n",
              "      <td>140000.000000</td>\n",
              "      <td>2.000000</td>\n",
              "      <td>2.000000</td>\n",
              "      <td>2.000000</td>\n",
              "      <td>34.000000</td>\n",
              "      <td>0.000000</td>\n",
              "      <td>0.000000</td>\n",
              "      <td>0.000000</td>\n",
              "      <td>0.000000</td>\n",
              "      <td>0.000000</td>\n",
              "      <td>0.000000</td>\n",
              "      <td>22381.500000</td>\n",
              "      <td>21200.000000</td>\n",
              "      <td>2.008850e+04</td>\n",
              "      <td>19052.000000</td>\n",
              "      <td>18104.500000</td>\n",
              "      <td>17071.000000</td>\n",
              "      <td>2100.000000</td>\n",
              "      <td>2.009000e+03</td>\n",
              "      <td>1800.00000</td>\n",
              "      <td>1500.000000</td>\n",
              "      <td>1500.000000</td>\n",
              "      <td>1500.000000</td>\n",
              "      <td>0.000000</td>\n",
              "    </tr>\n",
              "    <tr>\n",
              "      <th>75%</th>\n",
              "      <td>22500.250000</td>\n",
              "      <td>240000.000000</td>\n",
              "      <td>2.000000</td>\n",
              "      <td>2.000000</td>\n",
              "      <td>2.000000</td>\n",
              "      <td>41.000000</td>\n",
              "      <td>0.000000</td>\n",
              "      <td>0.000000</td>\n",
              "      <td>0.000000</td>\n",
              "      <td>0.000000</td>\n",
              "      <td>0.000000</td>\n",
              "      <td>0.000000</td>\n",
              "      <td>67091.000000</td>\n",
              "      <td>64006.250000</td>\n",
              "      <td>6.016475e+04</td>\n",
              "      <td>54506.000000</td>\n",
              "      <td>50190.500000</td>\n",
              "      <td>49198.250000</td>\n",
              "      <td>5006.000000</td>\n",
              "      <td>5.000000e+03</td>\n",
              "      <td>4505.00000</td>\n",
              "      <td>4013.250000</td>\n",
              "      <td>4031.500000</td>\n",
              "      <td>4000.000000</td>\n",
              "      <td>0.000000</td>\n",
              "    </tr>\n",
              "    <tr>\n",
              "      <th>max</th>\n",
              "      <td>30000.000000</td>\n",
              "      <td>1000000.000000</td>\n",
              "      <td>2.000000</td>\n",
              "      <td>6.000000</td>\n",
              "      <td>3.000000</td>\n",
              "      <td>79.000000</td>\n",
              "      <td>8.000000</td>\n",
              "      <td>8.000000</td>\n",
              "      <td>8.000000</td>\n",
              "      <td>8.000000</td>\n",
              "      <td>8.000000</td>\n",
              "      <td>8.000000</td>\n",
              "      <td>964511.000000</td>\n",
              "      <td>983931.000000</td>\n",
              "      <td>1.664089e+06</td>\n",
              "      <td>891586.000000</td>\n",
              "      <td>927171.000000</td>\n",
              "      <td>961664.000000</td>\n",
              "      <td>873552.000000</td>\n",
              "      <td>1.684259e+06</td>\n",
              "      <td>896040.00000</td>\n",
              "      <td>621000.000000</td>\n",
              "      <td>426529.000000</td>\n",
              "      <td>528666.000000</td>\n",
              "      <td>1.000000</td>\n",
              "    </tr>\n",
              "  </tbody>\n",
              "</table>\n",
              "</div>"
            ],
            "text/plain": [
              "                 ID       LIMIT_BAL  ...       PAY_AMT6       default\n",
              "count  30000.000000    30000.000000  ...   30000.000000  30000.000000\n",
              "mean   15000.500000   167484.322667  ...    5215.502567      0.221200\n",
              "std     8660.398374   129747.661567  ...   17777.465775      0.415062\n",
              "min        1.000000    10000.000000  ...       0.000000      0.000000\n",
              "25%     7500.750000    50000.000000  ...     117.750000      0.000000\n",
              "50%    15000.500000   140000.000000  ...    1500.000000      0.000000\n",
              "75%    22500.250000   240000.000000  ...    4000.000000      0.000000\n",
              "max    30000.000000  1000000.000000  ...  528666.000000      1.000000\n",
              "\n",
              "[8 rows x 25 columns]"
            ]
          },
          "metadata": {},
          "execution_count": 10
        }
      ]
    },
    {
      "cell_type": "markdown",
      "metadata": {
        "id": "stBe3a3lap9T"
      },
      "source": [
        "## See if there is any abnormal values.\n",
        "Let's see if there is any value of the categorical variables that is not described in the deta overview."
      ]
    },
    {
      "cell_type": "code",
      "metadata": {
        "colab": {
          "base_uri": "https://localhost:8080/"
        },
        "id": "FcAlNEwJ-yKS",
        "outputId": "581ef6b5-6f68-4d64-b508-728e0728b620"
      },
      "source": [
        "# Unbalanced distribution of classes:\n",
        "df['default'].value_counts(normalize=True)"
      ],
      "execution_count": null,
      "outputs": [
        {
          "output_type": "execute_result",
          "data": {
            "text/plain": [
              "0    0.7788\n",
              "1    0.2212\n",
              "Name: default, dtype: float64"
            ]
          },
          "metadata": {},
          "execution_count": 11
        }
      ]
    },
    {
      "cell_type": "markdown",
      "metadata": {
        "id": "oSWYbxaO7jIs"
      },
      "source": [
        "#### EDUCATION\n",
        " (1=graduate school, 2=university, 3=high school, 4=others, 5=unknown, 6=unknown)"
      ]
    },
    {
      "cell_type": "code",
      "metadata": {
        "colab": {
          "base_uri": "https://localhost:8080/"
        },
        "id": "V-HVRKc87em-",
        "outputId": "b91054f8-acad-4cfe-8bca-63ffcc689e06"
      },
      "source": [
        "df['EDUCATION'].value_counts()"
      ],
      "execution_count": null,
      "outputs": [
        {
          "output_type": "execute_result",
          "data": {
            "text/plain": [
              "2    14030\n",
              "1    10585\n",
              "3     4917\n",
              "5      280\n",
              "4      123\n",
              "6       51\n",
              "0       14\n",
              "Name: EDUCATION, dtype: int64"
            ]
          },
          "metadata": {},
          "execution_count": 12
        }
      ]
    },
    {
      "cell_type": "code",
      "metadata": {
        "colab": {
          "base_uri": "https://localhost:8080/"
        },
        "id": "kxo_tV4833QL",
        "outputId": "5686bc5d-6142-4d47-a9ad-061fcf049308"
      },
      "source": [
        "df['EDUCATION'].replace(to_replace=[0,5,6], value=4, inplace=True)\n",
        "df['EDUCATION'].value_counts()"
      ],
      "execution_count": null,
      "outputs": [
        {
          "output_type": "execute_result",
          "data": {
            "text/plain": [
              "2    14030\n",
              "1    10585\n",
              "3     4917\n",
              "4      468\n",
              "Name: EDUCATION, dtype: int64"
            ]
          },
          "metadata": {},
          "execution_count": 13
        }
      ]
    },
    {
      "cell_type": "markdown",
      "metadata": {
        "id": "0naIhhgE7rAr"
      },
      "source": [
        "#### MARRIAGE\n",
        "Marital status (1=married, 2=single, 3=others)"
      ]
    },
    {
      "cell_type": "code",
      "metadata": {
        "colab": {
          "base_uri": "https://localhost:8080/"
        },
        "id": "rEoQnZoU7psV",
        "outputId": "5d9adb02-300a-4c6f-9d19-225591c9e5e3"
      },
      "source": [
        "df['MARRIAGE'].value_counts()"
      ],
      "execution_count": null,
      "outputs": [
        {
          "output_type": "execute_result",
          "data": {
            "text/plain": [
              "2    15964\n",
              "1    13659\n",
              "3      323\n",
              "0       54\n",
              "Name: MARRIAGE, dtype: int64"
            ]
          },
          "metadata": {},
          "execution_count": 14
        }
      ]
    },
    {
      "cell_type": "code",
      "metadata": {
        "colab": {
          "base_uri": "https://localhost:8080/"
        },
        "id": "NxK8amhK746K",
        "outputId": "20f7806f-f4db-49d4-b740-e4ef0e146db6"
      },
      "source": [
        "df['MARRIAGE'].replace(to_replace=[0], value=3, inplace=True)\n",
        "df['MARRIAGE'].value_counts()"
      ],
      "execution_count": null,
      "outputs": [
        {
          "output_type": "execute_result",
          "data": {
            "text/plain": [
              "2    15964\n",
              "1    13659\n",
              "3      377\n",
              "Name: MARRIAGE, dtype: int64"
            ]
          },
          "metadata": {},
          "execution_count": 15
        }
      ]
    },
    {
      "cell_type": "markdown",
      "metadata": {
        "id": "k4BzVXAfa5me"
      },
      "source": [
        "### Pay_0\n",
        "PAY_0: Repayment status in September, 2005 (-1=pay duly, 1=payment delay for one month, 2=payment delay for two months, ... 8=payment delay for eight months, 9=payment delay for nine months and above)\n",
        "- Noted that we have 9% of -2 value, and 50% of 0 in the data and no description provided for these values. Similar to the rest of PAY columns.\n",
        "- Action: Assume -1, -2, and 0 mean on time payment (some customers paid early, causing -2 value?)"
      ]
    },
    {
      "cell_type": "code",
      "metadata": {
        "colab": {
          "base_uri": "https://localhost:8080/"
        },
        "id": "K4CnheCV-86t",
        "outputId": "462b1142-e2ce-46bd-8f8d-fd52fbe76201"
      },
      "source": [
        "df['PAY_0'].value_counts(normalize=True)"
      ],
      "execution_count": null,
      "outputs": [
        {
          "output_type": "execute_result",
          "data": {
            "text/plain": [
              " 0    0.491233\n",
              "-1    0.189533\n",
              " 1    0.122933\n",
              "-2    0.091967\n",
              " 2    0.088900\n",
              " 3    0.010733\n",
              " 4    0.002533\n",
              " 5    0.000867\n",
              " 8    0.000633\n",
              " 6    0.000367\n",
              " 7    0.000300\n",
              "Name: PAY_0, dtype: float64"
            ]
          },
          "metadata": {},
          "execution_count": 16
        }
      ]
    },
    {
      "cell_type": "code",
      "metadata": {
        "colab": {
          "base_uri": "https://localhost:8080/"
        },
        "id": "vFDZxxTfCRgO",
        "outputId": "a6b2b64d-252f-4a05-c299-e2f29e966e02"
      },
      "source": [
        "df['PAY_3'].value_counts()"
      ],
      "execution_count": null,
      "outputs": [
        {
          "output_type": "execute_result",
          "data": {
            "text/plain": [
              " 0    15764\n",
              "-1     5938\n",
              "-2     4085\n",
              " 2     3819\n",
              " 3      240\n",
              " 4       76\n",
              " 7       27\n",
              " 6       23\n",
              " 5       21\n",
              " 1        4\n",
              " 8        3\n",
              "Name: PAY_3, dtype: int64"
            ]
          },
          "metadata": {},
          "execution_count": 17
        }
      ]
    },
    {
      "cell_type": "code",
      "metadata": {
        "id": "o8Hr5uKy97Yn"
      },
      "source": [
        "# Replace all minus values with 0 to indicate on time payment\n",
        "for col in ['PAY_0','PAY_2', 'PAY_3', 'PAY_4', 'PAY_5', 'PAY_6']: \n",
        "  df[col].replace(to_replace=[-1,-2], value=0, inplace=True)"
      ],
      "execution_count": null,
      "outputs": []
    },
    {
      "cell_type": "markdown",
      "metadata": {
        "id": "Pr0OhoEPeVhJ"
      },
      "source": [
        "### BILL_AMT1-6\n",
        "Amount of bill statement in September, 2005 (NT dollar) till April, 2005.\n",
        "- There are negative values. Consider them as credits?"
      ]
    },
    {
      "cell_type": "code",
      "metadata": {
        "colab": {
          "base_uri": "https://localhost:8080/",
          "height": 297
        },
        "id": "ugPj1x0qCqux",
        "outputId": "5efe3990-4450-450f-c14f-f15b089cbec8"
      },
      "source": [
        "df[['BILL_AMT1', 'BILL_AMT2', 'BILL_AMT3', 'BILL_AMT4', 'BILL_AMT5', 'BILL_AMT6']].describe()"
      ],
      "execution_count": null,
      "outputs": [
        {
          "output_type": "execute_result",
          "data": {
            "text/html": [
              "<div>\n",
              "<style scoped>\n",
              "    .dataframe tbody tr th:only-of-type {\n",
              "        vertical-align: middle;\n",
              "    }\n",
              "\n",
              "    .dataframe tbody tr th {\n",
              "        vertical-align: top;\n",
              "    }\n",
              "\n",
              "    .dataframe thead th {\n",
              "        text-align: right;\n",
              "    }\n",
              "</style>\n",
              "<table border=\"1\" class=\"dataframe\">\n",
              "  <thead>\n",
              "    <tr style=\"text-align: right;\">\n",
              "      <th></th>\n",
              "      <th>BILL_AMT1</th>\n",
              "      <th>BILL_AMT2</th>\n",
              "      <th>BILL_AMT3</th>\n",
              "      <th>BILL_AMT4</th>\n",
              "      <th>BILL_AMT5</th>\n",
              "      <th>BILL_AMT6</th>\n",
              "    </tr>\n",
              "  </thead>\n",
              "  <tbody>\n",
              "    <tr>\n",
              "      <th>count</th>\n",
              "      <td>30000.000000</td>\n",
              "      <td>30000.000000</td>\n",
              "      <td>3.000000e+04</td>\n",
              "      <td>30000.000000</td>\n",
              "      <td>30000.000000</td>\n",
              "      <td>30000.000000</td>\n",
              "    </tr>\n",
              "    <tr>\n",
              "      <th>mean</th>\n",
              "      <td>51223.330900</td>\n",
              "      <td>49179.075167</td>\n",
              "      <td>4.701315e+04</td>\n",
              "      <td>43262.948967</td>\n",
              "      <td>40311.400967</td>\n",
              "      <td>38871.760400</td>\n",
              "    </tr>\n",
              "    <tr>\n",
              "      <th>std</th>\n",
              "      <td>73635.860576</td>\n",
              "      <td>71173.768783</td>\n",
              "      <td>6.934939e+04</td>\n",
              "      <td>64332.856134</td>\n",
              "      <td>60797.155770</td>\n",
              "      <td>59554.107537</td>\n",
              "    </tr>\n",
              "    <tr>\n",
              "      <th>min</th>\n",
              "      <td>-165580.000000</td>\n",
              "      <td>-69777.000000</td>\n",
              "      <td>-1.572640e+05</td>\n",
              "      <td>-170000.000000</td>\n",
              "      <td>-81334.000000</td>\n",
              "      <td>-339603.000000</td>\n",
              "    </tr>\n",
              "    <tr>\n",
              "      <th>25%</th>\n",
              "      <td>3558.750000</td>\n",
              "      <td>2984.750000</td>\n",
              "      <td>2.666250e+03</td>\n",
              "      <td>2326.750000</td>\n",
              "      <td>1763.000000</td>\n",
              "      <td>1256.000000</td>\n",
              "    </tr>\n",
              "    <tr>\n",
              "      <th>50%</th>\n",
              "      <td>22381.500000</td>\n",
              "      <td>21200.000000</td>\n",
              "      <td>2.008850e+04</td>\n",
              "      <td>19052.000000</td>\n",
              "      <td>18104.500000</td>\n",
              "      <td>17071.000000</td>\n",
              "    </tr>\n",
              "    <tr>\n",
              "      <th>75%</th>\n",
              "      <td>67091.000000</td>\n",
              "      <td>64006.250000</td>\n",
              "      <td>6.016475e+04</td>\n",
              "      <td>54506.000000</td>\n",
              "      <td>50190.500000</td>\n",
              "      <td>49198.250000</td>\n",
              "    </tr>\n",
              "    <tr>\n",
              "      <th>max</th>\n",
              "      <td>964511.000000</td>\n",
              "      <td>983931.000000</td>\n",
              "      <td>1.664089e+06</td>\n",
              "      <td>891586.000000</td>\n",
              "      <td>927171.000000</td>\n",
              "      <td>961664.000000</td>\n",
              "    </tr>\n",
              "  </tbody>\n",
              "</table>\n",
              "</div>"
            ],
            "text/plain": [
              "           BILL_AMT1      BILL_AMT2  ...      BILL_AMT5      BILL_AMT6\n",
              "count   30000.000000   30000.000000  ...   30000.000000   30000.000000\n",
              "mean    51223.330900   49179.075167  ...   40311.400967   38871.760400\n",
              "std     73635.860576   71173.768783  ...   60797.155770   59554.107537\n",
              "min   -165580.000000  -69777.000000  ...  -81334.000000 -339603.000000\n",
              "25%      3558.750000    2984.750000  ...    1763.000000    1256.000000\n",
              "50%     22381.500000   21200.000000  ...   18104.500000   17071.000000\n",
              "75%     67091.000000   64006.250000  ...   50190.500000   49198.250000\n",
              "max    964511.000000  983931.000000  ...  927171.000000  961664.000000\n",
              "\n",
              "[8 rows x 6 columns]"
            ]
          },
          "metadata": {},
          "execution_count": 19
        }
      ]
    },
    {
      "cell_type": "markdown",
      "metadata": {
        "id": "xfimL3dCe-E-"
      },
      "source": [
        "### PAY_AMT1-6\n",
        "Amount of previous payment in September, 2005 (NT dollar) to April, 2005.\n",
        "All looks good. No abnormal value."
      ]
    },
    {
      "cell_type": "code",
      "metadata": {
        "colab": {
          "base_uri": "https://localhost:8080/",
          "height": 297
        },
        "id": "71axp8k0ecH4",
        "outputId": "512566db-d6c8-4a57-cca3-effbc98350ca"
      },
      "source": [
        "df[['PAY_AMT1', 'PAY_AMT2', 'PAY_AMT3', 'PAY_AMT4', 'PAY_AMT5', 'PAY_AMT6']].describe()"
      ],
      "execution_count": null,
      "outputs": [
        {
          "output_type": "execute_result",
          "data": {
            "text/html": [
              "<div>\n",
              "<style scoped>\n",
              "    .dataframe tbody tr th:only-of-type {\n",
              "        vertical-align: middle;\n",
              "    }\n",
              "\n",
              "    .dataframe tbody tr th {\n",
              "        vertical-align: top;\n",
              "    }\n",
              "\n",
              "    .dataframe thead th {\n",
              "        text-align: right;\n",
              "    }\n",
              "</style>\n",
              "<table border=\"1\" class=\"dataframe\">\n",
              "  <thead>\n",
              "    <tr style=\"text-align: right;\">\n",
              "      <th></th>\n",
              "      <th>PAY_AMT1</th>\n",
              "      <th>PAY_AMT2</th>\n",
              "      <th>PAY_AMT3</th>\n",
              "      <th>PAY_AMT4</th>\n",
              "      <th>PAY_AMT5</th>\n",
              "      <th>PAY_AMT6</th>\n",
              "    </tr>\n",
              "  </thead>\n",
              "  <tbody>\n",
              "    <tr>\n",
              "      <th>count</th>\n",
              "      <td>30000.000000</td>\n",
              "      <td>3.000000e+04</td>\n",
              "      <td>30000.00000</td>\n",
              "      <td>30000.000000</td>\n",
              "      <td>30000.000000</td>\n",
              "      <td>30000.000000</td>\n",
              "    </tr>\n",
              "    <tr>\n",
              "      <th>mean</th>\n",
              "      <td>5663.580500</td>\n",
              "      <td>5.921163e+03</td>\n",
              "      <td>5225.68150</td>\n",
              "      <td>4826.076867</td>\n",
              "      <td>4799.387633</td>\n",
              "      <td>5215.502567</td>\n",
              "    </tr>\n",
              "    <tr>\n",
              "      <th>std</th>\n",
              "      <td>16563.280354</td>\n",
              "      <td>2.304087e+04</td>\n",
              "      <td>17606.96147</td>\n",
              "      <td>15666.159744</td>\n",
              "      <td>15278.305679</td>\n",
              "      <td>17777.465775</td>\n",
              "    </tr>\n",
              "    <tr>\n",
              "      <th>min</th>\n",
              "      <td>0.000000</td>\n",
              "      <td>0.000000e+00</td>\n",
              "      <td>0.00000</td>\n",
              "      <td>0.000000</td>\n",
              "      <td>0.000000</td>\n",
              "      <td>0.000000</td>\n",
              "    </tr>\n",
              "    <tr>\n",
              "      <th>25%</th>\n",
              "      <td>1000.000000</td>\n",
              "      <td>8.330000e+02</td>\n",
              "      <td>390.00000</td>\n",
              "      <td>296.000000</td>\n",
              "      <td>252.500000</td>\n",
              "      <td>117.750000</td>\n",
              "    </tr>\n",
              "    <tr>\n",
              "      <th>50%</th>\n",
              "      <td>2100.000000</td>\n",
              "      <td>2.009000e+03</td>\n",
              "      <td>1800.00000</td>\n",
              "      <td>1500.000000</td>\n",
              "      <td>1500.000000</td>\n",
              "      <td>1500.000000</td>\n",
              "    </tr>\n",
              "    <tr>\n",
              "      <th>75%</th>\n",
              "      <td>5006.000000</td>\n",
              "      <td>5.000000e+03</td>\n",
              "      <td>4505.00000</td>\n",
              "      <td>4013.250000</td>\n",
              "      <td>4031.500000</td>\n",
              "      <td>4000.000000</td>\n",
              "    </tr>\n",
              "    <tr>\n",
              "      <th>max</th>\n",
              "      <td>873552.000000</td>\n",
              "      <td>1.684259e+06</td>\n",
              "      <td>896040.00000</td>\n",
              "      <td>621000.000000</td>\n",
              "      <td>426529.000000</td>\n",
              "      <td>528666.000000</td>\n",
              "    </tr>\n",
              "  </tbody>\n",
              "</table>\n",
              "</div>"
            ],
            "text/plain": [
              "            PAY_AMT1      PAY_AMT2  ...       PAY_AMT5       PAY_AMT6\n",
              "count   30000.000000  3.000000e+04  ...   30000.000000   30000.000000\n",
              "mean     5663.580500  5.921163e+03  ...    4799.387633    5215.502567\n",
              "std     16563.280354  2.304087e+04  ...   15278.305679   17777.465775\n",
              "min         0.000000  0.000000e+00  ...       0.000000       0.000000\n",
              "25%      1000.000000  8.330000e+02  ...     252.500000     117.750000\n",
              "50%      2100.000000  2.009000e+03  ...    1500.000000    1500.000000\n",
              "75%      5006.000000  5.000000e+03  ...    4031.500000    4000.000000\n",
              "max    873552.000000  1.684259e+06  ...  426529.000000  528666.000000\n",
              "\n",
              "[8 rows x 6 columns]"
            ]
          },
          "metadata": {},
          "execution_count": 20
        }
      ]
    },
    {
      "cell_type": "code",
      "metadata": {
        "colab": {
          "base_uri": "https://localhost:8080/"
        },
        "id": "mDdDfqB-493U",
        "outputId": "2ce4e8e2-a9be-4fc9-fb8a-e80bd39bf52b"
      },
      "source": [
        "# Group ages into groups\n",
        "bins = [21,30,40,50,60,80]\n",
        "labels = [1,2,3,4,5]\n",
        "df['age_bin'] = pd.cut(df['AGE'], bins=bins,labels = labels, include_lowest=True).astype(int)\n",
        "df.dtypes"
      ],
      "execution_count": null,
      "outputs": [
        {
          "output_type": "execute_result",
          "data": {
            "text/plain": [
              "ID           int64\n",
              "LIMIT_BAL    int64\n",
              "SEX          int64\n",
              "EDUCATION    int64\n",
              "MARRIAGE     int64\n",
              "AGE          int64\n",
              "PAY_0        int64\n",
              "PAY_2        int64\n",
              "PAY_3        int64\n",
              "PAY_4        int64\n",
              "PAY_5        int64\n",
              "PAY_6        int64\n",
              "BILL_AMT1    int64\n",
              "BILL_AMT2    int64\n",
              "BILL_AMT3    int64\n",
              "BILL_AMT4    int64\n",
              "BILL_AMT5    int64\n",
              "BILL_AMT6    int64\n",
              "PAY_AMT1     int64\n",
              "PAY_AMT2     int64\n",
              "PAY_AMT3     int64\n",
              "PAY_AMT4     int64\n",
              "PAY_AMT5     int64\n",
              "PAY_AMT6     int64\n",
              "default      int64\n",
              "age_bin      int64\n",
              "dtype: object"
            ]
          },
          "metadata": {},
          "execution_count": 21
        }
      ]
    },
    {
      "cell_type": "markdown",
      "metadata": {
        "id": "rKS06abbgjR4"
      },
      "source": [
        "## Some graphs"
      ]
    },
    {
      "cell_type": "markdown",
      "metadata": {
        "id": "6-6IbSldiqzg"
      },
      "source": [
        "#### Credit Limit\n",
        "Most common value: around 50k"
      ]
    },
    {
      "cell_type": "code",
      "metadata": {
        "colab": {
          "base_uri": "https://localhost:8080/",
          "height": 562
        },
        "id": "SW3a2IBpiNRK",
        "outputId": "8c790d71-62f8-4235-efa8-ebe7635dc1b5"
      },
      "source": [
        "plt.figure(figsize = (14,8))\n",
        "plt.title('Amount of credit limit')\n",
        "sns.set_color_codes(\"pastel\")\n",
        "sns.distplot(df['LIMIT_BAL'],kde=True,bins=100, color=\"blue\")\n",
        "plt.show()"
      ],
      "execution_count": null,
      "outputs": [
        {
          "output_type": "stream",
          "name": "stderr",
          "text": [
            "/usr/local/lib/python3.7/dist-packages/seaborn/distributions.py:2619: FutureWarning: `distplot` is a deprecated function and will be removed in a future version. Please adapt your code to use either `displot` (a figure-level function with similar flexibility) or `histplot` (an axes-level function for histograms).\n",
            "  warnings.warn(msg, FutureWarning)\n"
          ]
        },
        {
          "output_type": "display_data",
          "data": {
            "image/png": "[encoded data removed]",
            "text/plain": [
              "<Figure size 1008x576 with 1 Axes>"
            ]
          },
          "metadata": {}
        }
      ]
    },
    {
      "cell_type": "code",
      "metadata": {
        "id": "cbIM2obik97N"
      },
      "source": [
        ""
      ],
      "execution_count": null,
      "outputs": []
    },
    {
      "cell_type": "markdown",
      "metadata": {
        "id": "e70QqC_iiyjW"
      },
      "source": [
        "#### Credit limit vs. sex\n",
        "No significant difference between two genders (1-male, 2-female)"
      ]
    },
    {
      "cell_type": "code",
      "metadata": {
        "colab": {
          "base_uri": "https://localhost:8080/",
          "height": 396
        },
        "id": "h1u-iCIzlIGx",
        "outputId": "47dd96b7-3682-4a88-d33e-04de01da2065"
      },
      "source": [
        "fig, (ax1, ax2) = plt.subplots(ncols=2, figsize=(12,6))\n",
        "# Show outliers outside of the caps\n",
        "s = sns.boxplot(ax = ax1, x=\"SEX\", y=\"LIMIT_BAL\", hue=\"SEX\",data=df,showfliers=True)\n",
        "\n",
        "# Without outliers\n",
        "s = sns.boxplot(ax = ax2, x=\"SEX\", y=\"LIMIT_BAL\", hue=\"SEX\",data=df,showfliers=False)\n",
        "plt.show()"
      ],
      "execution_count": null,
      "outputs": [
        {
          "output_type": "display_data",
          "data": {
            "image/png": "[encoded data removed]",
            "text/plain": [
              "<Figure size 864x432 with 2 Axes>"
            ]
          },
          "metadata": {}
        }
      ]
    },
    {
      "cell_type": "markdown",
      "metadata": {
        "id": "TvO8nWeqm_pJ"
      },
      "source": [
        "#### Default vs Sex\n",
        "Female seems to be more likely to default"
      ]
    },
    {
      "cell_type": "code",
      "metadata": {
        "colab": {
          "base_uri": "https://localhost:8080/",
          "height": 385
        },
        "id": "yXMRkVj5hDz0",
        "outputId": "0163db09-a566-4ddf-ca0a-dc72494680a0"
      },
      "source": [
        "f, ax = plt.subplots(figsize=(6, 6))\n",
        "data = df[['default','SEX']]\n",
        "sns.countplot(x='default', hue='SEX', data=data)\n",
        "plt.show()"
      ],
      "execution_count": null,
      "outputs": [
        {
          "output_type": "display_data",
          "data": {
            "image/png": "[encoded data removed]",
            "text/plain": [
              "<Figure size 432x432 with 1 Axes>"
            ]
          },
          "metadata": {}
        }
      ]
    },
    {
      "cell_type": "markdown",
      "metadata": {
        "id": "i7ROwAYKnGyy"
      },
      "source": [
        "#### Customers with graduate education is not likely to default."
      ]
    },
    {
      "cell_type": "code",
      "metadata": {
        "colab": {
          "base_uri": "https://localhost:8080/",
          "height": 385
        },
        "id": "1_F2P0h2mzdw",
        "outputId": "433ab545-e961-4eae-eed3-57337534ad89"
      },
      "source": [
        "f, ax = plt.subplots(figsize=(6, 6))\n",
        "data = df[['default','SEX']]\n",
        "g = sns.countplot(x='default', hue='EDUCATION', data=df)\n",
        "g.set_yscale(\"log\")\n",
        "plt.show()"
      ],
      "execution_count": null,
      "outputs": [
        {
          "output_type": "display_data",
          "data": {
            "image/png": "[encoded data removed]",
            "text/plain": [
              "<Figure size 432x432 with 1 Axes>"
            ]
          },
          "metadata": {}
        }
      ]
    },
    {
      "cell_type": "markdown",
      "metadata": {
        "id": "y-SpADSJ6N1e"
      },
      "source": [
        "#### Marriage status seems not to have a significant impact on credit risk."
      ]
    },
    {
      "cell_type": "code",
      "metadata": {
        "colab": {
          "base_uri": "https://localhost:8080/",
          "height": 385
        },
        "id": "mGQY7eO9oSax",
        "outputId": "87d99775-bad1-4644-dda2-92bbdfa19281"
      },
      "source": [
        "f, ax = plt.subplots(figsize=(6, 6))\n",
        "data = df[['default','SEX']]\n",
        "g = sns.countplot(x='default', hue='MARRIAGE', data=df)\n",
        "g.set_yscale(\"log\")\n",
        "plt.show()"
      ],
      "execution_count": null,
      "outputs": [
        {
          "output_type": "display_data",
          "data": {
            "image/png": "[encoded data removed]",
            "text/plain": [
              "<Figure size 432x432 with 1 Axes>"
            ]
          },
          "metadata": {}
        }
      ]
    },
    {
      "cell_type": "markdown",
      "metadata": {
        "id": "2mdyig4W6VG0"
      },
      "source": [
        "#### Younger customers seem to have a higher likehood of being default."
      ]
    },
    {
      "cell_type": "code",
      "metadata": {
        "colab": {
          "base_uri": "https://localhost:8080/",
          "height": 385
        },
        "id": "2_b5ppUH6bVu",
        "outputId": "4e8e4f5d-2340-4e7a-860f-89544ada3854"
      },
      "source": [
        "f, ax = plt.subplots(figsize=(6, 6))\n",
        "data = df[['default','SEX']]\n",
        "g = sns.countplot(x='default', hue='age_bin', data=df)\n",
        "g.set_yscale(\"log\")\n",
        "plt.show()"
      ],
      "execution_count": null,
      "outputs": [
        {
          "output_type": "display_data",
          "data": {
            "image/png": "[encoded data removed]",
            "text/plain": [
              "<Figure size 432x432 with 1 Axes>"
            ]
          },
          "metadata": {}
        }
      ]
    },
    {
      "cell_type": "markdown",
      "metadata": {
        "id": "cSodfpf_6hu_"
      },
      "source": [
        "#### Summary in a correlation matrix"
      ]
    },
    {
      "cell_type": "code",
      "metadata": {
        "colab": {
          "base_uri": "https://localhost:8080/",
          "height": 775
        },
        "id": "UO_AwUYjnIah",
        "outputId": "87c4d908-8705-43bd-a85f-2b4de1129386"
      },
      "source": [
        "#correlation matrix\n",
        "sns.set(style=\"white\")\n",
        "\n",
        "# Compute the correlation matrix\n",
        "corrmat = df.corr() # corr calculation\n",
        "\n",
        "# Create a white mask for the upper triangle\n",
        "mask = np.zeros_like(corrmat, dtype=np.bool)\n",
        "mask[np.triu_indices_from(mask)] = True\n",
        "\n",
        "# Draw the heatmap\n",
        "f, ax = plt.subplots(figsize=(15, 15))\n",
        "cmap = sns.diverging_palette(220, 10, as_cmap=True)\n",
        "sns.heatmap(corrmat, mask=mask, \n",
        "            cmap=cmap, vmax=.3, center=0,\n",
        "            square=True, linewidths=.5, cbar_kws={\"shrink\": .5})\n",
        "plt.show()"
      ],
      "execution_count": null,
      "outputs": [
        {
          "output_type": "display_data",
          "data": {
            "image/png": "[encoded data removed]",
            "text/plain": [
              "<Figure size 1080x1080 with 2 Axes>"
            ]
          },
          "metadata": {}
        }
      ]
    },
    {
      "cell_type": "markdown",
      "metadata": {
        "id": "xlkw1MFE6U5_"
      },
      "source": [
        "## Fit conventional classifiers as baseline models"
      ]
    },
    {
      "cell_type": "code",
      "metadata": {
        "id": "pO5W-GP1r7X0"
      },
      "source": [
        "# Split the data into train and test sets. Stratify by y to maintain the same distribution of classes in two sets.\n",
        "y=df[['default']]\n",
        "X=df.drop(columns=['default', 'AGE','ID']) # use age_bin instead\n",
        "data = train_test_split(X, y, train_size = 0.7, random_state = 100, stratify=y)"
      ],
      "execution_count": null,
      "outputs": []
    },
    {
      "cell_type": "code",
      "metadata": {
        "id": "GHqPnaxCezWE"
      },
      "source": [
        "# A class to wrap all training and reporting tasks for selected models. \n",
        "class ModelList():\n",
        "\n",
        "  def __init__(self, data):\n",
        "    # Init\n",
        "    self.data = data\n",
        "    self.X_train, self.X_test, self.y_train, self.y_test = data\n",
        "    self.model_list = {}\n",
        "\n",
        "  def add_model(self, model_name, model, params):\n",
        "    # Add model to the list of testing models\n",
        "    self.model_list[model_name] = model(**params)\n",
        "\n",
        "  def fit(self):\n",
        "    # Fit the model\n",
        "    for model_name, model in self.model_list.items():\n",
        "      model.fit(X_train, y_train.values.ravel())\n",
        "\n",
        "  def evaluate(self, model):\n",
        "    # Calculate performance metrics for each model\n",
        "    X_train, X_test, y_train, y_test = self.X_train, self.X_test, self.y_train, self.y_test\n",
        "    y_pred_train = model.predict(X_train)\n",
        "    y_pred_test = model.predict(X_test)\n",
        "\n",
        "    train_cm = confusion_matrix(y_train, y_pred_train)\n",
        "    test_cm = confusion_matrix(y_test, y_pred_test)\n",
        "\n",
        "    precision_train = precision_score(y_train, y_pred_train)\n",
        "    precision_test = precision_score(y_test, y_pred_test)\n",
        "\n",
        "    recall_train = recall_score(y_train, y_pred_train)\n",
        "    recall_test = recall_score(y_test, y_pred_test)\n",
        "\n",
        "    f1_train = f1_score(y_train, y_pred_train)\n",
        "    f1_test = f1_score(y_test, y_pred_test)\n",
        "    metrics = precision_train, precision_test, recall_train, recall_test, f1_train, f1_test\n",
        "    cm = train_cm, test_cm\n",
        "    return metrics, cm\n",
        "\n",
        "  def report(self):\n",
        "    # Record the report to the evaluation dataframe\n",
        "    eval_df = pd.DataFrame({'Model': [],\n",
        "                              'Classifier':[],\n",
        "                              'Features':[],\n",
        "                              'Precision- Train':[],\n",
        "                              'Precision- Test':[],\n",
        "                              'Recall- Train':[],\n",
        "                              'Recall- Test':[],\n",
        "                              'F1- Train':[],\n",
        "                              'F1- Test':[]\n",
        "                              })\n",
        "    \n",
        "    cms = {}\n",
        "    for model_name, model in self.model_list.items():\n",
        "      metrics, cm = self.evaluate(model)\n",
        "      # Add to the evaluation report\n",
        "      r = eval_df.shape[0]\n",
        "      eval_df.loc[r] = [model_name, model, ', '.join(self.X_train.columns), *metrics]\n",
        "      cms[model_name] = cm\n",
        "    return eval_df, cms\n",
        "\n",
        "  def get_feature_importance(self, model_name, k=10):\n",
        "    # Get top k most important features\n",
        "    importances = dict(zip(X_train.columns, self.model_list[model_name].feature_importances_))\n",
        "    sorted_importances = sorted(importances.items(), key=lambda x: x[1], reverse=True)\n",
        "    return sorted_importances[:k]"
      ],
      "execution_count": null,
      "outputs": []
    },
    {
      "cell_type": "code",
      "metadata": {
        "colab": {
          "base_uri": "https://localhost:8080/",
          "height": 258
        },
        "id": "zm1aTSl2hVhu",
        "outputId": "1aedda54-37f6-4bae-8b01-c23e3752084f"
      },
      "source": [
        "# Train a number of models with the most basic form of hyperparameters.\n",
        "# These models are considered as the baseline for us to evaluate later models.\n",
        "\n",
        "ml = ModelList(data)\n",
        "model_names = ['Logistic Regression - Base (balance weight)',\n",
        "               'Decision Tree - Base', 'Random Forest - Base',\n",
        "               'XGBoost - Base']\n",
        "\n",
        "models = [LogisticRegression,\n",
        "          DecisionTreeClassifier, RandomForestClassifier, \n",
        "          xgb.XGBClassifier]\n",
        "\n",
        "params = [{'class_weight': 'balanced'},\n",
        "          {'max_depth': 10, 'random_state': 10}, {'max_depth': 10}, {}]\n",
        "\n",
        "for model_name, model, param in zip(model_names, models, params):\n",
        "  ml.add_model(model_name, model, param)\n",
        "\n",
        "ml.fit()\n",
        "eval_df_base, cm_base = ml.report()\n",
        "eval_df_base.round(2)"
      ],
      "execution_count": null,
      "outputs": [
        {
          "output_type": "execute_result",
          "data": {
            "text/html": [
              "<div>\n",
              "<style scoped>\n",
              "    .dataframe tbody tr th:only-of-type {\n",
              "        vertical-align: middle;\n",
              "    }\n",
              "\n",
              "    .dataframe tbody tr th {\n",
              "        vertical-align: top;\n",
              "    }\n",
              "\n",
              "    .dataframe thead th {\n",
              "        text-align: right;\n",
              "    }\n",
              "</style>\n",
              "<table border=\"1\" class=\"dataframe\">\n",
              "  <thead>\n",
              "    <tr style=\"text-align: right;\">\n",
              "      <th></th>\n",
              "      <th>Model</th>\n",
              "      <th>Classifier</th>\n",
              "      <th>Features</th>\n",
              "      <th>Precision- Train</th>\n",
              "      <th>Precision- Test</th>\n",
              "      <th>Recall- Train</th>\n",
              "      <th>Recall- Test</th>\n",
              "      <th>F1- Train</th>\n",
              "      <th>F1- Test</th>\n",
              "    </tr>\n",
              "  </thead>\n",
              "  <tbody>\n",
              "    <tr>\n",
              "      <th>0</th>\n",
              "      <td>Logistic Regression - Base (balance weight)</td>\n",
              "      <td>LogisticRegression(class_weight='balanced')</td>\n",
              "      <td>LIMIT_BAL, SEX, EDUCATION, MARRIAGE, PAY_0, PA...</td>\n",
              "      <td>0.32</td>\n",
              "      <td>0.32</td>\n",
              "      <td>0.35</td>\n",
              "      <td>0.34</td>\n",
              "      <td>0.34</td>\n",
              "      <td>0.33</td>\n",
              "    </tr>\n",
              "    <tr>\n",
              "      <th>1</th>\n",
              "      <td>Decision Tree - Base</td>\n",
              "      <td>DecisionTreeClassifier(max_depth=10, random_st...</td>\n",
              "      <td>LIMIT_BAL, SEX, EDUCATION, MARRIAGE, PAY_0, PA...</td>\n",
              "      <td>0.76</td>\n",
              "      <td>0.61</td>\n",
              "      <td>0.47</td>\n",
              "      <td>0.37</td>\n",
              "      <td>0.58</td>\n",
              "      <td>0.46</td>\n",
              "    </tr>\n",
              "    <tr>\n",
              "      <th>2</th>\n",
              "      <td>Random Forest - Base</td>\n",
              "      <td>(DecisionTreeClassifier(max_depth=10, max_feat...</td>\n",
              "      <td>LIMIT_BAL, SEX, EDUCATION, MARRIAGE, PAY_0, PA...</td>\n",
              "      <td>0.85</td>\n",
              "      <td>0.68</td>\n",
              "      <td>0.44</td>\n",
              "      <td>0.33</td>\n",
              "      <td>0.58</td>\n",
              "      <td>0.45</td>\n",
              "    </tr>\n",
              "    <tr>\n",
              "      <th>3</th>\n",
              "      <td>XGBoost - Base</td>\n",
              "      <td>XGBClassifier()</td>\n",
              "      <td>LIMIT_BAL, SEX, EDUCATION, MARRIAGE, PAY_0, PA...</td>\n",
              "      <td>0.70</td>\n",
              "      <td>0.68</td>\n",
              "      <td>0.37</td>\n",
              "      <td>0.35</td>\n",
              "      <td>0.49</td>\n",
              "      <td>0.46</td>\n",
              "    </tr>\n",
              "  </tbody>\n",
              "</table>\n",
              "</div>"
            ],
            "text/plain": [
              "                                         Model  ... F1- Test\n",
              "0  Logistic Regression - Base (balance weight)  ...     0.33\n",
              "1                         Decision Tree - Base  ...     0.46\n",
              "2                         Random Forest - Base  ...     0.45\n",
              "3                               XGBoost - Base  ...     0.46\n",
              "\n",
              "[4 rows x 9 columns]"
            ]
          },
          "metadata": {},
          "execution_count": 62
        }
      ]
    },
    {
      "cell_type": "code",
      "metadata": {
        "colab": {
          "base_uri": "https://localhost:8080/",
          "height": 553
        },
        "id": "zEdPyyM8pJO8",
        "outputId": "3fa5397e-f22e-42d8-8f10-bf790527b391"
      },
      "source": [
        "# Plot confusion matrix for Random Forest - Base, both train and test data.\n",
        "from sklearn.metrics import ConfusionMatrixDisplay\n",
        "disp_train = ConfusionMatrixDisplay(cm['Random Forest - Base'][0])\n",
        "disp_test = ConfusionMatrixDisplay(cm['Random Forest - Base'][1])\n",
        "disp_train.plot()\n",
        "disp_test.plot()\n",
        "plt.show()"
      ],
      "execution_count": null,
      "outputs": [
        {
          "output_type": "display_data",
          "data": {
            "image/png": "[encoded data removed]",
            "text/plain": [
              "<Figure size 432x288 with 2 Axes>"
            ]
          },
          "metadata": {}
        },
        {
          "output_type": "display_data",
          "data": {
            "image/png": "[encoded data removed]",
            "text/plain": [
              "<Figure size 432x288 with 2 Axes>"
            ]
          },
          "metadata": {}
        }
      ]
    },
    {
      "cell_type": "code",
      "metadata": {
        "colab": {
          "base_uri": "https://localhost:8080/"
        },
        "id": "5RnqGVY6rjZR",
        "outputId": "d74853ac-2799-41d2-e4ce-c9f3809b95e7"
      },
      "source": [
        "# Get the top 10 important features:\n",
        "[ i[0] for i in ml.get_feature_importance('Random Forest - Base')]"
      ],
      "execution_count": null,
      "outputs": [
        {
          "output_type": "execute_result",
          "data": {
            "text/plain": [
              "['PAY_0',\n",
              " 'PAY_2',\n",
              " 'PAY_5',\n",
              " 'PAY_3',\n",
              " 'PAY_4',\n",
              " 'PAY_AMT1',\n",
              " 'LIMIT_BAL',\n",
              " 'BILL_AMT1',\n",
              " 'PAY_AMT2',\n",
              " 'BILL_AMT2']"
            ]
          },
          "metadata": {},
          "execution_count": 61
        }
      ]
    },
    {
      "cell_type": "markdown",
      "metadata": {
        "id": "ySJRPdYDFaJU"
      },
      "source": [
        "##  Tuned to get better models"
      ]
    },
    {
      "cell_type": "markdown",
      "metadata": {
        "id": "K5EbDrHR9otb"
      },
      "source": [
        "### Tune Logistic Regression\n"
      ]
    },
    {
      "cell_type": "code",
      "metadata": {
        "colab": {
          "base_uri": "https://localhost:8080/",
          "height": 980
        },
        "id": "FDBIhTDN9wy1",
        "outputId": "3f218a3f-3c4e-41ec-fd5f-1c70436945ad"
      },
      "source": [
        "# Plot Precision-Recall curve at different weight ratios.\n",
        "# ROC is for reference only.\n",
        "X_train, X_test, y_train, y_test = data\n",
        "\n",
        "fig = plt.figure(figsize=(15,8))\n",
        "ax1 = fig.add_subplot(1,2,1)\n",
        "ax1.set_xlim([-0.05,1.05])\n",
        "ax1.set_ylim([-0.05,1.05])\n",
        "ax1.set_xlabel('Recall')\n",
        "ax1.set_ylabel('Precision')\n",
        "ax1.set_title('PR Curve')\n",
        "\n",
        "ax2 = fig.add_subplot(1,2,2)\n",
        "ax2.set_xlim([-0.05,1.05])\n",
        "ax2.set_ylim([-0.05,1.05])\n",
        "ax2.set_xlabel('False Positive Rate')\n",
        "ax2.set_ylabel('True Positive Rate')\n",
        "ax2.set_title('ROC Curve')\n",
        "\n",
        "for w,k in zip([1,5,10,20,50],'bgrcmykw'):\n",
        "    lr_model = LogisticRegression(class_weight={0:1,1:w})\n",
        "    lr_model.fit(X_train,y_train)\n",
        "    pred_prob = lr_model.predict_proba(X_test)[:,1]\n",
        "\n",
        "    p,r,_ = precision_recall_curve(y_test,pred_prob)\n",
        "    tpr,fpr,_ = metrics.roc_curve(y_test,pred_prob)\n",
        "    \n",
        "    ax1.plot(r,p,c=k,label=w)\n",
        "    ax2.plot(tpr,fpr,c=k,label=w)\n",
        "ax1.legend(loc='lower left')    \n",
        "ax2.legend(loc='lower left')\n",
        "\n",
        "plt.show()"
      ],
      "execution_count": null,
      "outputs": [
        {
          "output_type": "stream",
          "name": "stderr",
          "text": [
            "/usr/local/lib/python3.7/dist-packages/sklearn/utils/validation.py:985: DataConversionWarning: A column-vector y was passed when a 1d array was expected. Please change the shape of y to (n_samples, ), for example using ravel().\n",
            "  y = column_or_1d(y, warn=True)\n",
            "/usr/local/lib/python3.7/dist-packages/sklearn/utils/validation.py:985: DataConversionWarning: A column-vector y was passed when a 1d array was expected. Please change the shape of y to (n_samples, ), for example using ravel().\n",
            "  y = column_or_1d(y, warn=True)\n",
            "/usr/local/lib/python3.7/dist-packages/sklearn/utils/validation.py:985: DataConversionWarning: A column-vector y was passed when a 1d array was expected. Please change the shape of y to (n_samples, ), for example using ravel().\n",
            "  y = column_or_1d(y, warn=True)\n",
            "/usr/local/lib/python3.7/dist-packages/sklearn/utils/validation.py:985: DataConversionWarning: A column-vector y was passed when a 1d array was expected. Please change the shape of y to (n_samples, ), for example using ravel().\n",
            "  y = column_or_1d(y, warn=True)\n",
            "/usr/local/lib/python3.7/dist-packages/sklearn/linear_model/_logistic.py:818: ConvergenceWarning: lbfgs failed to converge (status=1):\n",
            "STOP: TOTAL NO. of ITERATIONS REACHED LIMIT.\n",
            "\n",
            "Increase the number of iterations (max_iter) or scale the data as shown in:\n",
            "    https://scikit-learn.org/stable/modules/preprocessing.html\n",
            "Please also refer to the documentation for alternative solver options:\n",
            "    https://scikit-learn.org/stable/modules/linear_model.html#logistic-regression\n",
            "  extra_warning_msg=_LOGISTIC_SOLVER_CONVERGENCE_MSG,\n",
            "/usr/local/lib/python3.7/dist-packages/sklearn/utils/validation.py:985: DataConversionWarning: A column-vector y was passed when a 1d array was expected. Please change the shape of y to (n_samples, ), for example using ravel().\n",
            "  y = column_or_1d(y, warn=True)\n",
            "/usr/local/lib/python3.7/dist-packages/sklearn/linear_model/_logistic.py:818: ConvergenceWarning: lbfgs failed to converge (status=1):\n",
            "STOP: TOTAL NO. of ITERATIONS REACHED LIMIT.\n",
            "\n",
            "Increase the number of iterations (max_iter) or scale the data as shown in:\n",
            "    https://scikit-learn.org/stable/modules/preprocessing.html\n",
            "Please also refer to the documentation for alternative solver options:\n",
            "    https://scikit-learn.org/stable/modules/linear_model.html#logistic-regression\n",
            "  extra_warning_msg=_LOGISTIC_SOLVER_CONVERGENCE_MSG,\n"
          ]
        },
        {
          "output_type": "display_data",
          "data": {
            "image/png": "[encoded data removed]",
            "text/plain": [
              "<Figure size 1080x576 with 2 Axes>"
            ]
          },
          "metadata": {}
        }
      ]
    },
    {
      "cell_type": "markdown",
      "metadata": {
        "id": "D3d0dN63Bu_D"
      },
      "source": [
        "## Tune Random Forest\n",
        "Random Forest Hyperparameters we’ll be Looking at below two, as they usually have the strongest effect in improving model perforamce.\n",
        "- max_depth\n",
        "- n_estimators\n"
      ]
    },
    {
      "cell_type": "markdown",
      "metadata": {
        "id": "8r-4Q9cN-bO5"
      },
      "source": [
        ""
      ]
    },
    {
      "cell_type": "code",
      "metadata": {
        "colab": {
          "base_uri": "https://localhost:8080/"
        },
        "id": "OugbpNJIAC8P",
        "outputId": "43006634-124e-47ca-a263-febc16a806dd"
      },
      "source": [
        "from sklearn.model_selection import RandomizedSearchCV\n",
        "from sklearn.model_selection import GridSearchCV\n",
        "\n",
        "X_train, _, y_train, _ = data\n",
        "\n",
        "n_estimators = [50, 100]\n",
        "max_depth = [5, 7, 10]\n",
        "\n",
        "rf = RandomForestClassifier()\n",
        "\n",
        "hyperF = {'n_estimators' : n_estimators, \n",
        "          'max_depth' : max_depth\n",
        "          }\n",
        "\n",
        "gridF = GridSearchCV(rf, hyperF, cv = 3, scoring = precision_score, \n",
        "                      n_jobs = -1)\n",
        "bestF = gridF.fit(X_train, y_train.values.ravel())"
      ],
      "execution_count": null,
      "outputs": [
        {
          "output_type": "stream",
          "name": "stderr",
          "text": [
            "/usr/local/lib/python3.7/dist-packages/sklearn/model_selection/_search.py:972: UserWarning: One or more of the test scores are non-finite: [nan nan nan nan nan nan]\n",
            "  category=UserWarning,\n"
          ]
        }
      ]
    },
    {
      "cell_type": "code",
      "metadata": {
        "id": "pOg0WlnGUo15"
      },
      "source": [
        "# Get the best hyperparameters:\n",
        "fgridF.best_params_"
      ],
      "execution_count": null,
      "outputs": []
    },
    {
      "cell_type": "code",
      "metadata": {
        "colab": {
          "base_uri": "https://localhost:8080/"
        },
        "id": "jnlXBUR6vU2y",
        "outputId": "bb497000-5224-4f5a-d0ec-3baed40892f2"
      },
      "source": [
        "y_test_pred_best = gridF.best_estimator_.predict(X_test)\n",
        "f1_score(y_test, y_test_pred_best)"
      ],
      "execution_count": null,
      "outputs": [
        {
          "output_type": "execute_result",
          "data": {
            "text/plain": [
              "0.45830553702468313"
            ]
          },
          "metadata": {},
          "execution_count": 113
        }
      ]
    },
    {
      "cell_type": "markdown",
      "metadata": {
        "id": "RzuS0mdyRc4n"
      },
      "source": [
        "## Tune XGBoost"
      ]
    },
    {
      "cell_type": "code",
      "metadata": {
        "id": "PTnMmq904aDS",
        "colab": {
          "base_uri": "https://localhost:8080/",
          "height": 210
        },
        "outputId": "a11973be-ffe5-432a-f89e-f74152688d49"
      },
      "source": [
        "# Train the tuned models\n",
        "# These models are considered as the baseline for us to evaluate later models.\n",
        "\n",
        "ml = ModelList(data)\n",
        "model_names = ['Logistic Regression - Tuned',\n",
        "               'Random Forest - Tuned',\n",
        "               'XGBoost - Tuned']\n",
        "\n",
        "models = [LogisticRegression, \n",
        "          RandomForestClassifier, \n",
        "          xgb.XGBClassifier]\n",
        "\n",
        "params = [{'class_weight': {0:1,1:10}},\n",
        "          {'max_depth': 7, 'random_state': 10, 'n_estimators': 100}, \n",
        "          {'max_depth': 7, 'learning_rate': 0.01}]\n",
        "          \n",
        "for model_name, model, param in zip(model_names, models, params):\n",
        "  ml.add_model(model_name, model, param)\n",
        "\n",
        "ml.fit()\n",
        "eval_df_tuned, cm_tuned = ml.report()\n",
        "eval_df_tuned"
      ],
      "execution_count": 70,
      "outputs": [
        {
          "output_type": "execute_result",
          "data": {
            "text/html": [
              "<div>\n",
              "<style scoped>\n",
              "    .dataframe tbody tr th:only-of-type {\n",
              "        vertical-align: middle;\n",
              "    }\n",
              "\n",
              "    .dataframe tbody tr th {\n",
              "        vertical-align: top;\n",
              "    }\n",
              "\n",
              "    .dataframe thead th {\n",
              "        text-align: right;\n",
              "    }\n",
              "</style>\n",
              "<table border=\"1\" class=\"dataframe\">\n",
              "  <thead>\n",
              "    <tr style=\"text-align: right;\">\n",
              "      <th></th>\n",
              "      <th>Model</th>\n",
              "      <th>Classifier</th>\n",
              "      <th>Features</th>\n",
              "      <th>Precision- Train</th>\n",
              "      <th>Precision- Test</th>\n",
              "      <th>Recall- Train</th>\n",
              "      <th>Recall- Test</th>\n",
              "      <th>F1- Train</th>\n",
              "      <th>F1- Test</th>\n",
              "    </tr>\n",
              "  </thead>\n",
              "  <tbody>\n",
              "    <tr>\n",
              "      <th>0</th>\n",
              "      <td>Logistic Regression - Tuned</td>\n",
              "      <td>LogisticRegression(class_weight={0: 1, 1: 10})</td>\n",
              "      <td>LIMIT_BAL, SEX, EDUCATION, MARRIAGE, PAY_0, PA...</td>\n",
              "      <td>0.228387</td>\n",
              "      <td>0.229090</td>\n",
              "      <td>0.965124</td>\n",
              "      <td>0.964340</td>\n",
              "      <td>0.369366</td>\n",
              "      <td>0.370228</td>\n",
              "    </tr>\n",
              "    <tr>\n",
              "      <th>1</th>\n",
              "      <td>Random Forest - Tuned</td>\n",
              "      <td>(DecisionTreeClassifier(max_depth=7, max_featu...</td>\n",
              "      <td>LIMIT_BAL, SEX, EDUCATION, MARRIAGE, PAY_0, PA...</td>\n",
              "      <td>0.751479</td>\n",
              "      <td>0.684268</td>\n",
              "      <td>0.355436</td>\n",
              "      <td>0.312406</td>\n",
              "      <td>0.482607</td>\n",
              "      <td>0.428966</td>\n",
              "    </tr>\n",
              "    <tr>\n",
              "      <th>2</th>\n",
              "      <td>XGBoost - Tuned</td>\n",
              "      <td>XGBClassifier(learning_rate=0.01, max_depth=7)</td>\n",
              "      <td>LIMIT_BAL, SEX, EDUCATION, MARRIAGE, PAY_0, PA...</td>\n",
              "      <td>0.757676</td>\n",
              "      <td>0.679112</td>\n",
              "      <td>0.393111</td>\n",
              "      <td>0.338021</td>\n",
              "      <td>0.517647</td>\n",
              "      <td>0.451375</td>\n",
              "    </tr>\n",
              "  </tbody>\n",
              "</table>\n",
              "</div>"
            ],
            "text/plain": [
              "                         Model  ...  F1- Test\n",
              "0  Logistic Regression - Tuned  ...  0.370228\n",
              "1        Random Forest - Tuned  ...  0.428966\n",
              "2              XGBoost - Tuned  ...  0.451375\n",
              "\n",
              "[3 rows x 9 columns]"
            ]
          },
          "metadata": {},
          "execution_count": 70
        }
      ]
    },
    {
      "cell_type": "code",
      "metadata": {
        "id": "WQPkmGuFVJCt"
      },
      "source": [
        "# Add both baseline models and the tuned ones.\n",
        "result_df = pd.concat([eval_df_base, eval_df_tuned], axis=0)"
      ],
      "execution_count": 74,
      "outputs": []
    },
    {
      "cell_type": "code",
      "metadata": {
        "id": "kJXjxDT_VWHX"
      },
      "source": [
        ""
      ],
      "execution_count": null,
      "outputs": []
    }
  ]
}